{
 "cells": [
  {
   "cell_type": "markdown",
   "metadata": {},
   "source": [
    "# BASIC MODELING FILE FOR CHINA"
   ]
  },
  {
   "cell_type": "code",
   "execution_count": 2,
   "metadata": {},
   "outputs": [],
   "source": [
    "#import required libary\n",
    "import numpy as np \n",
    "import pandas as pd\n",
    "import seaborn as sns\n",
    "import matplotlib.pyplot as plt\n",
    "%matplotlib inline"
   ]
  },
  {
   "cell_type": "code",
   "execution_count": 3,
   "metadata": {},
   "outputs": [
    {
     "data": {
      "text/html": [
       "<div>\n",
       "<style scoped>\n",
       "    .dataframe tbody tr th:only-of-type {\n",
       "        vertical-align: middle;\n",
       "    }\n",
       "\n",
       "    .dataframe tbody tr th {\n",
       "        vertical-align: top;\n",
       "    }\n",
       "\n",
       "    .dataframe thead th {\n",
       "        text-align: right;\n",
       "    }\n",
       "</style>\n",
       "<table border=\"1\" class=\"dataframe\">\n",
       "  <thead>\n",
       "    <tr style=\"text-align: right;\">\n",
       "      <th></th>\n",
       "      <th>Province/State</th>\n",
       "      <th>Country/Region</th>\n",
       "      <th>Day</th>\n",
       "      <th>Time</th>\n",
       "      <th>Confirmed</th>\n",
       "      <th>Suspected</th>\n",
       "      <th>Recovered</th>\n",
       "      <th>Deaths</th>\n",
       "      <th>Demised</th>\n",
       "    </tr>\n",
       "  </thead>\n",
       "  <tbody>\n",
       "    <tr>\n",
       "      <td>0</td>\n",
       "      <td>Yunnan</td>\n",
       "      <td>Mainland China</td>\n",
       "      <td>2020-01-21</td>\n",
       "      <td>00:00:00</td>\n",
       "      <td>1.0</td>\n",
       "      <td>NaN</td>\n",
       "      <td>NaN</td>\n",
       "      <td>NaN</td>\n",
       "      <td>NaN</td>\n",
       "    </tr>\n",
       "    <tr>\n",
       "      <td>1</td>\n",
       "      <td>Hubei</td>\n",
       "      <td>Mainland China</td>\n",
       "      <td>2020-01-21</td>\n",
       "      <td>00:00:00</td>\n",
       "      <td>270.0</td>\n",
       "      <td>11.0</td>\n",
       "      <td>NaN</td>\n",
       "      <td>NaN</td>\n",
       "      <td>NaN</td>\n",
       "    </tr>\n",
       "    <tr>\n",
       "      <td>2</td>\n",
       "      <td>Zhejiang</td>\n",
       "      <td>Mainland China</td>\n",
       "      <td>2020-01-21</td>\n",
       "      <td>00:00:00</td>\n",
       "      <td>5.0</td>\n",
       "      <td>16.0</td>\n",
       "      <td>NaN</td>\n",
       "      <td>NaN</td>\n",
       "      <td>NaN</td>\n",
       "    </tr>\n",
       "    <tr>\n",
       "      <td>3</td>\n",
       "      <td>Henan</td>\n",
       "      <td>Mainland China</td>\n",
       "      <td>2020-01-21</td>\n",
       "      <td>00:00:00</td>\n",
       "      <td>1.0</td>\n",
       "      <td>NaN</td>\n",
       "      <td>NaN</td>\n",
       "      <td>NaN</td>\n",
       "      <td>NaN</td>\n",
       "    </tr>\n",
       "    <tr>\n",
       "      <td>4</td>\n",
       "      <td>Jiangxi</td>\n",
       "      <td>Mainland China</td>\n",
       "      <td>2020-01-21</td>\n",
       "      <td>00:00:00</td>\n",
       "      <td>2.0</td>\n",
       "      <td>NaN</td>\n",
       "      <td>NaN</td>\n",
       "      <td>NaN</td>\n",
       "      <td>NaN</td>\n",
       "    </tr>\n",
       "  </tbody>\n",
       "</table>\n",
       "</div>"
      ],
      "text/plain": [
       "  Province/State  Country/Region         Day      Time  Confirmed  Suspected  \\\n",
       "0         Yunnan  Mainland China  2020-01-21  00:00:00        1.0        NaN   \n",
       "1          Hubei  Mainland China  2020-01-21  00:00:00      270.0       11.0   \n",
       "2       Zhejiang  Mainland China  2020-01-21  00:00:00        5.0       16.0   \n",
       "3          Henan  Mainland China  2020-01-21  00:00:00        1.0        NaN   \n",
       "4        Jiangxi  Mainland China  2020-01-21  00:00:00        2.0        NaN   \n",
       "\n",
       "   Recovered  Deaths  Demised  \n",
       "0        NaN     NaN      NaN  \n",
       "1        NaN     NaN      NaN  \n",
       "2        NaN     NaN      NaN  \n",
       "3        NaN     NaN      NaN  \n",
       "4        NaN     NaN      NaN  "
      ]
     },
     "execution_count": 3,
     "metadata": {},
     "output_type": "execute_result"
    }
   ],
   "source": [
    "#read the latest dataset regarding coronavirus\n",
    "df = pd.read_csv('combined.csv')\n",
    "df.head()"
   ]
  },
  {
   "cell_type": "markdown",
   "metadata": {},
   "source": [
    "### Here in the given dataset we are provided with various columns like \"Confirmed\", \"Suspected\", \"Recovered\", \"Deaths\", \"Demised\":\n",
    "\n",
    "1. But here we are having most of the columns other than Confirmed all are having maximum null so it doesn't make any sense by keep them so I dropped all these columns with null.\n"
   ]
  },
  {
   "cell_type": "code",
   "execution_count": 4,
   "metadata": {},
   "outputs": [],
   "source": [
    "df[\"Last Update\"]=df[\"Day\"]+\" \"+df[\"Time\"]"
   ]
  },
  {
   "cell_type": "code",
   "execution_count": 5,
   "metadata": {},
   "outputs": [],
   "source": [
    "df.drop([\"Day\",\"Time\",\"Suspected\",\"Recovered\",\"Deaths\",\"Demised\"],inplace=True,axis=1)"
   ]
  },
  {
   "cell_type": "code",
   "execution_count": 6,
   "metadata": {},
   "outputs": [],
   "source": [
    "df.columns=[\"Province/State\",\"Country\",\"Confirmed\",\"Last Update\"]"
   ]
  },
  {
   "cell_type": "markdown",
   "metadata": {},
   "source": [
    "### Now Let's group up for country China and check how many confirmed cases are there"
   ]
  },
  {
   "cell_type": "code",
   "execution_count": 98,
   "metadata": {
    "scrolled": true
   },
   "outputs": [],
   "source": [
    "confirmed = df.query('Country==\"Mainland China\"').groupby(\"Last Update\")[['Confirmed']].sum().reset_index()\n",
    "\n",
    "confirmed[\"Last Update\"]=pd.to_datetime(confirmed[\"Last Update\"])"
   ]
  },
  {
   "cell_type": "code",
   "execution_count": 99,
   "metadata": {},
   "outputs": [],
   "source": [
    "confirmed[\"Last Update\"]=confirmed[\"Last Update\"] + pd.DateOffset(1)"
   ]
  },
  {
   "cell_type": "code",
   "execution_count": 100,
   "metadata": {},
   "outputs": [
    {
     "data": {
      "text/html": [
       "<div>\n",
       "<style scoped>\n",
       "    .dataframe tbody tr th:only-of-type {\n",
       "        vertical-align: middle;\n",
       "    }\n",
       "\n",
       "    .dataframe tbody tr th {\n",
       "        vertical-align: top;\n",
       "    }\n",
       "\n",
       "    .dataframe thead th {\n",
       "        text-align: right;\n",
       "    }\n",
       "</style>\n",
       "<table border=\"1\" class=\"dataframe\">\n",
       "  <thead>\n",
       "    <tr style=\"text-align: right;\">\n",
       "      <th></th>\n",
       "      <th>Last Update</th>\n",
       "      <th>Confirmed</th>\n",
       "    </tr>\n",
       "  </thead>\n",
       "  <tbody>\n",
       "    <tr>\n",
       "      <td>0</td>\n",
       "      <td>2020-01-22 00:00:00</td>\n",
       "      <td>327.0</td>\n",
       "    </tr>\n",
       "    <tr>\n",
       "      <td>1</td>\n",
       "      <td>2020-01-23 12:00:00</td>\n",
       "      <td>549.0</td>\n",
       "    </tr>\n",
       "    <tr>\n",
       "      <td>2</td>\n",
       "      <td>2020-01-24 12:00:00</td>\n",
       "      <td>639.0</td>\n",
       "    </tr>\n",
       "    <tr>\n",
       "      <td>3</td>\n",
       "      <td>2020-01-26 22:00:00</td>\n",
       "      <td>1156.0</td>\n",
       "    </tr>\n",
       "    <tr>\n",
       "      <td>4</td>\n",
       "      <td>2020-01-27 23:00:00</td>\n",
       "      <td>2737.0</td>\n",
       "    </tr>\n",
       "    <tr>\n",
       "      <td>5</td>\n",
       "      <td>2020-01-28 20:30:00</td>\n",
       "      <td>4409.0</td>\n",
       "    </tr>\n",
       "    <tr>\n",
       "      <td>6</td>\n",
       "      <td>2020-01-29 23:00:00</td>\n",
       "      <td>5970.0</td>\n",
       "    </tr>\n",
       "    <tr>\n",
       "      <td>7</td>\n",
       "      <td>2020-01-30 21:00:00</td>\n",
       "      <td>7678.0</td>\n",
       "    </tr>\n",
       "    <tr>\n",
       "      <td>8</td>\n",
       "      <td>2020-01-31 21:30:00</td>\n",
       "      <td>9658.0</td>\n",
       "    </tr>\n",
       "    <tr>\n",
       "      <td>9</td>\n",
       "      <td>2020-02-01 19:00:00</td>\n",
       "      <td>11221.0</td>\n",
       "    </tr>\n",
       "  </tbody>\n",
       "</table>\n",
       "</div>"
      ],
      "text/plain": [
       "          Last Update  Confirmed\n",
       "0 2020-01-22 00:00:00      327.0\n",
       "1 2020-01-23 12:00:00      549.0\n",
       "2 2020-01-24 12:00:00      639.0\n",
       "3 2020-01-26 22:00:00     1156.0\n",
       "4 2020-01-27 23:00:00     2737.0\n",
       "5 2020-01-28 20:30:00     4409.0\n",
       "6 2020-01-29 23:00:00     5970.0\n",
       "7 2020-01-30 21:00:00     7678.0\n",
       "8 2020-01-31 21:30:00     9658.0\n",
       "9 2020-02-01 19:00:00    11221.0"
      ]
     },
     "execution_count": 100,
     "metadata": {},
     "output_type": "execute_result"
    }
   ],
   "source": [
    "confirmed"
   ]
  },
  {
   "cell_type": "code",
   "execution_count": 8,
   "metadata": {},
   "outputs": [
    {
     "data": {
      "image/png": "[encoded data removed]",
      "text/plain": [
       "<Figure size 432x288 with 1 Axes>"
      ]
     },
     "metadata": {
      "needs_background": "light"
     },
     "output_type": "display_data"
    }
   ],
   "source": [
    "plt.plot(confirmed[\"Last Update\"], confirmed[\"Confirmed\"]) \n",
    "plt.xlabel('Time in Dates') \n",
    "plt.xticks(rotation=90)\n",
    "plt.ylabel('No. of Confirmed Cases') \n",
    "plt.title('Increasing Trend of Confirmed Cases!') \n",
    "plt.show() "
   ]
  },
  {
   "cell_type": "markdown",
   "metadata": {},
   "source": [
    "### Note:\n",
    "1. Since China government banned the Transportation Facilities in Wuhan and its neighbour cities which lies in Hubei province. So We are observed the in Hubei seperately and other cities collectively.\n"
   ]
  },
  {
   "cell_type": "markdown",
   "metadata": {},
   "source": [
    "# Predicting For Hubei"
   ]
  },
  {
   "cell_type": "markdown",
   "metadata": {},
   "source": [
    "  For predicting the confirmed cases of coronavirus we must take few factors into consideration like transmission Rate and population density\n",
    "  \n",
    "  1. For Transmission Rate, we are make use of the historical data as coronavirus belongs to family of virus Like SARS and MER. A notable common characteristic of both SARS-CoV and MERS-CoV is that they have potential for sustained community transmission and their stats show that, transmission rate lies in the 95% CrI 2·47–2·86, so being having reference of [1], we choose the transmission rate as 2.68 for china cities.\n",
    "  \n",
    "  \n",
    "  2. We had collected the dataset for population density since denser the place is more the chance for transmission of the virus.\n",
    "  "
   ]
  },
  {
   "cell_type": "code",
   "execution_count": 9,
   "metadata": {},
   "outputs": [
    {
     "data": {
      "text/html": [
       "<div>\n",
       "<style scoped>\n",
       "    .dataframe tbody tr th:only-of-type {\n",
       "        vertical-align: middle;\n",
       "    }\n",
       "\n",
       "    .dataframe tbody tr th {\n",
       "        vertical-align: top;\n",
       "    }\n",
       "\n",
       "    .dataframe thead th {\n",
       "        text-align: right;\n",
       "    }\n",
       "</style>\n",
       "<table border=\"1\" class=\"dataframe\">\n",
       "  <thead>\n",
       "    <tr style=\"text-align: right;\">\n",
       "      <th></th>\n",
       "      <th>Province/State</th>\n",
       "      <th>Country</th>\n",
       "      <th>Confirmed</th>\n",
       "      <th>Last Update</th>\n",
       "    </tr>\n",
       "  </thead>\n",
       "  <tbody>\n",
       "    <tr>\n",
       "      <td>0</td>\n",
       "      <td>Yunnan</td>\n",
       "      <td>Mainland China</td>\n",
       "      <td>1.0</td>\n",
       "      <td>2020-01-21 00:00:00</td>\n",
       "    </tr>\n",
       "    <tr>\n",
       "      <td>1</td>\n",
       "      <td>Hubei</td>\n",
       "      <td>Mainland China</td>\n",
       "      <td>270.0</td>\n",
       "      <td>2020-01-21 00:00:00</td>\n",
       "    </tr>\n",
       "    <tr>\n",
       "      <td>2</td>\n",
       "      <td>Zhejiang</td>\n",
       "      <td>Mainland China</td>\n",
       "      <td>5.0</td>\n",
       "      <td>2020-01-21 00:00:00</td>\n",
       "    </tr>\n",
       "    <tr>\n",
       "      <td>3</td>\n",
       "      <td>Henan</td>\n",
       "      <td>Mainland China</td>\n",
       "      <td>1.0</td>\n",
       "      <td>2020-01-21 00:00:00</td>\n",
       "    </tr>\n",
       "    <tr>\n",
       "      <td>4</td>\n",
       "      <td>Jiangxi</td>\n",
       "      <td>Mainland China</td>\n",
       "      <td>2.0</td>\n",
       "      <td>2020-01-21 00:00:00</td>\n",
       "    </tr>\n",
       "  </tbody>\n",
       "</table>\n",
       "</div>"
      ],
      "text/plain": [
       "  Province/State         Country  Confirmed          Last Update\n",
       "0         Yunnan  Mainland China        1.0  2020-01-21 00:00:00\n",
       "1          Hubei  Mainland China      270.0  2020-01-21 00:00:00\n",
       "2       Zhejiang  Mainland China        5.0  2020-01-21 00:00:00\n",
       "3          Henan  Mainland China        1.0  2020-01-21 00:00:00\n",
       "4        Jiangxi  Mainland China        2.0  2020-01-21 00:00:00"
      ]
     },
     "execution_count": 9,
     "metadata": {},
     "output_type": "execute_result"
    }
   ],
   "source": [
    "df.head()"
   ]
  },
  {
   "cell_type": "code",
   "execution_count": 10,
   "metadata": {},
   "outputs": [],
   "source": [
    "df_wuhan=df.loc[df[\"Province/State\"]== \"Hubei\"]"
   ]
  },
  {
   "cell_type": "code",
   "execution_count": 11,
   "metadata": {},
   "outputs": [
    {
     "name": "stderr",
     "output_type": "stream",
     "text": [
      "/Users/vijender/opt/anaconda3/lib/python3.7/site-packages/ipykernel_launcher.py:1: SettingWithCopyWarning: \n",
      "A value is trying to be set on a copy of a slice from a DataFrame.\n",
      "Try using .loc[row_indexer,col_indexer] = value instead\n",
      "\n",
      "See the caveats in the documentation: http://pandas.pydata.org/pandas-docs/stable/user_guide/indexing.html#returning-a-view-versus-a-copy\n",
      "  \"\"\"Entry point for launching an IPython kernel.\n",
      "/Users/vijender/opt/anaconda3/lib/python3.7/site-packages/ipykernel_launcher.py:2: SettingWithCopyWarning: \n",
      "A value is trying to be set on a copy of a slice from a DataFrame.\n",
      "Try using .loc[row_indexer,col_indexer] = value instead\n",
      "\n",
      "See the caveats in the documentation: http://pandas.pydata.org/pandas-docs/stable/user_guide/indexing.html#returning-a-view-versus-a-copy\n",
      "  \n"
     ]
    }
   ],
   "source": [
    "df_wuhan[\"population_density\"]=820\n",
    "df_wuhan[\"Transmission_Rate\"]=2.68\n"
   ]
  },
  {
   "cell_type": "code",
   "execution_count": 12,
   "metadata": {},
   "outputs": [
    {
     "name": "stderr",
     "output_type": "stream",
     "text": [
      "/Users/vijender/opt/anaconda3/lib/python3.7/site-packages/pandas/core/frame.py:4102: SettingWithCopyWarning: \n",
      "A value is trying to be set on a copy of a slice from a DataFrame\n",
      "\n",
      "See the caveats in the documentation: http://pandas.pydata.org/pandas-docs/stable/user_guide/indexing.html#returning-a-view-versus-a-copy\n",
      "  errors=errors,\n"
     ]
    }
   ],
   "source": [
    "df_wuhan.drop([\"Province/State\",\"Country\"],inplace=True,axis=1)"
   ]
  },
  {
   "cell_type": "code",
   "execution_count": 13,
   "metadata": {},
   "outputs": [
    {
     "data": {
      "text/html": [
       "<div>\n",
       "<style scoped>\n",
       "    .dataframe tbody tr th:only-of-type {\n",
       "        vertical-align: middle;\n",
       "    }\n",
       "\n",
       "    .dataframe tbody tr th {\n",
       "        vertical-align: top;\n",
       "    }\n",
       "\n",
       "    .dataframe thead th {\n",
       "        text-align: right;\n",
       "    }\n",
       "</style>\n",
       "<table border=\"1\" class=\"dataframe\">\n",
       "  <thead>\n",
       "    <tr style=\"text-align: right;\">\n",
       "      <th></th>\n",
       "      <th>Confirmed</th>\n",
       "      <th>Last Update</th>\n",
       "      <th>population_density</th>\n",
       "      <th>Transmission_Rate</th>\n",
       "    </tr>\n",
       "  </thead>\n",
       "  <tbody>\n",
       "    <tr>\n",
       "      <td>1</td>\n",
       "      <td>270.0</td>\n",
       "      <td>2020-01-21 00:00:00</td>\n",
       "      <td>820</td>\n",
       "      <td>2.68</td>\n",
       "    </tr>\n",
       "    <tr>\n",
       "      <td>30</td>\n",
       "      <td>444.0</td>\n",
       "      <td>2020-01-22 12:00:00</td>\n",
       "      <td>820</td>\n",
       "      <td>2.68</td>\n",
       "    </tr>\n",
       "    <tr>\n",
       "      <td>87</td>\n",
       "      <td>444.0</td>\n",
       "      <td>2020-01-23 12:00:00</td>\n",
       "      <td>820</td>\n",
       "      <td>2.68</td>\n",
       "    </tr>\n",
       "    <tr>\n",
       "      <td>112</td>\n",
       "      <td>1052.0</td>\n",
       "      <td>2020-01-25 22:00:00</td>\n",
       "      <td>820</td>\n",
       "      <td>2.68</td>\n",
       "    </tr>\n",
       "    <tr>\n",
       "      <td>144</td>\n",
       "      <td>1423.0</td>\n",
       "      <td>2020-01-26 23:00:00</td>\n",
       "      <td>820</td>\n",
       "      <td>2.68</td>\n",
       "    </tr>\n",
       "    <tr>\n",
       "      <td>212</td>\n",
       "      <td>2714.0</td>\n",
       "      <td>2020-01-27 20:30:00</td>\n",
       "      <td>820</td>\n",
       "      <td>2.68</td>\n",
       "    </tr>\n",
       "    <tr>\n",
       "      <td>235</td>\n",
       "      <td>3554.0</td>\n",
       "      <td>2020-01-28 23:00:00</td>\n",
       "      <td>820</td>\n",
       "      <td>2.68</td>\n",
       "    </tr>\n",
       "    <tr>\n",
       "      <td>291</td>\n",
       "      <td>4586.0</td>\n",
       "      <td>2020-01-29 21:00:00</td>\n",
       "      <td>820</td>\n",
       "      <td>2.68</td>\n",
       "    </tr>\n",
       "    <tr>\n",
       "      <td>346</td>\n",
       "      <td>5806.0</td>\n",
       "      <td>2020-01-30 21:30:00</td>\n",
       "      <td>820</td>\n",
       "      <td>2.68</td>\n",
       "    </tr>\n",
       "    <tr>\n",
       "      <td>379</td>\n",
       "      <td>7153.0</td>\n",
       "      <td>2020-01-31 19:00:00</td>\n",
       "      <td>820</td>\n",
       "      <td>2.68</td>\n",
       "    </tr>\n",
       "  </tbody>\n",
       "</table>\n",
       "</div>"
      ],
      "text/plain": [
       "     Confirmed          Last Update  population_density  Transmission_Rate\n",
       "1        270.0  2020-01-21 00:00:00                 820               2.68\n",
       "30       444.0  2020-01-22 12:00:00                 820               2.68\n",
       "87       444.0  2020-01-23 12:00:00                 820               2.68\n",
       "112     1052.0  2020-01-25 22:00:00                 820               2.68\n",
       "144     1423.0  2020-01-26 23:00:00                 820               2.68\n",
       "212     2714.0  2020-01-27 20:30:00                 820               2.68\n",
       "235     3554.0  2020-01-28 23:00:00                 820               2.68\n",
       "291     4586.0  2020-01-29 21:00:00                 820               2.68\n",
       "346     5806.0  2020-01-30 21:30:00                 820               2.68\n",
       "379     7153.0  2020-01-31 19:00:00                 820               2.68"
      ]
     },
     "execution_count": 13,
     "metadata": {},
     "output_type": "execute_result"
    }
   ],
   "source": [
    "df_wuhan"
   ]
  },
  {
   "cell_type": "markdown",
   "metadata": {},
   "source": [
    "So Here is our final dataset we are going to use for prediction of Confirmed cases.\n",
    "\n",
    "And for modelling I had used Prophet Forecasting Model and it is giving a quite accuracy "
   ]
  },
  {
   "cell_type": "code",
   "execution_count": 14,
   "metadata": {},
   "outputs": [
    {
     "name": "stderr",
     "output_type": "stream",
     "text": [
      "/Users/vijender/opt/anaconda3/lib/python3.7/site-packages/ipykernel_launcher.py:1: SettingWithCopyWarning: \n",
      "A value is trying to be set on a copy of a slice from a DataFrame.\n",
      "Try using .loc[row_indexer,col_indexer] = value instead\n",
      "\n",
      "See the caveats in the documentation: http://pandas.pydata.org/pandas-docs/stable/user_guide/indexing.html#returning-a-view-versus-a-copy\n",
      "  \"\"\"Entry point for launching an IPython kernel.\n"
     ]
    }
   ],
   "source": [
    "df_wuhan[\"Last Update\"]=pd.to_datetime(df_wuhan[\"Last Update\"])"
   ]
  },
  {
   "cell_type": "code",
   "execution_count": 15,
   "metadata": {},
   "outputs": [
    {
     "name": "stderr",
     "output_type": "stream",
     "text": [
      "/Users/vijender/opt/anaconda3/lib/python3.7/site-packages/ipykernel_launcher.py:1: SettingWithCopyWarning: \n",
      "A value is trying to be set on a copy of a slice from a DataFrame.\n",
      "Try using .loc[row_indexer,col_indexer] = value instead\n",
      "\n",
      "See the caveats in the documentation: http://pandas.pydata.org/pandas-docs/stable/user_guide/indexing.html#returning-a-view-versus-a-copy\n",
      "  \"\"\"Entry point for launching an IPython kernel.\n"
     ]
    }
   ],
   "source": [
    "df_wuhan[\"Last Update\"]=df_wuhan[\"Last Update\"] + pd.DateOffset(1)"
   ]
  },
  {
   "cell_type": "code",
   "execution_count": 16,
   "metadata": {},
   "outputs": [
    {
     "data": {
      "text/html": [
       "<div>\n",
       "<style scoped>\n",
       "    .dataframe tbody tr th:only-of-type {\n",
       "        vertical-align: middle;\n",
       "    }\n",
       "\n",
       "    .dataframe tbody tr th {\n",
       "        vertical-align: top;\n",
       "    }\n",
       "\n",
       "    .dataframe thead th {\n",
       "        text-align: right;\n",
       "    }\n",
       "</style>\n",
       "<table border=\"1\" class=\"dataframe\">\n",
       "  <thead>\n",
       "    <tr style=\"text-align: right;\">\n",
       "      <th></th>\n",
       "      <th>Confirmed</th>\n",
       "      <th>Last Update</th>\n",
       "      <th>population_density</th>\n",
       "      <th>Transmission_Rate</th>\n",
       "    </tr>\n",
       "  </thead>\n",
       "  <tbody>\n",
       "    <tr>\n",
       "      <td>1</td>\n",
       "      <td>270.0</td>\n",
       "      <td>2020-01-22 00:00:00</td>\n",
       "      <td>820</td>\n",
       "      <td>2.68</td>\n",
       "    </tr>\n",
       "    <tr>\n",
       "      <td>30</td>\n",
       "      <td>444.0</td>\n",
       "      <td>2020-01-23 12:00:00</td>\n",
       "      <td>820</td>\n",
       "      <td>2.68</td>\n",
       "    </tr>\n",
       "    <tr>\n",
       "      <td>87</td>\n",
       "      <td>444.0</td>\n",
       "      <td>2020-01-24 12:00:00</td>\n",
       "      <td>820</td>\n",
       "      <td>2.68</td>\n",
       "    </tr>\n",
       "    <tr>\n",
       "      <td>112</td>\n",
       "      <td>1052.0</td>\n",
       "      <td>2020-01-26 22:00:00</td>\n",
       "      <td>820</td>\n",
       "      <td>2.68</td>\n",
       "    </tr>\n",
       "    <tr>\n",
       "      <td>144</td>\n",
       "      <td>1423.0</td>\n",
       "      <td>2020-01-27 23:00:00</td>\n",
       "      <td>820</td>\n",
       "      <td>2.68</td>\n",
       "    </tr>\n",
       "    <tr>\n",
       "      <td>212</td>\n",
       "      <td>2714.0</td>\n",
       "      <td>2020-01-28 20:30:00</td>\n",
       "      <td>820</td>\n",
       "      <td>2.68</td>\n",
       "    </tr>\n",
       "    <tr>\n",
       "      <td>235</td>\n",
       "      <td>3554.0</td>\n",
       "      <td>2020-01-29 23:00:00</td>\n",
       "      <td>820</td>\n",
       "      <td>2.68</td>\n",
       "    </tr>\n",
       "    <tr>\n",
       "      <td>291</td>\n",
       "      <td>4586.0</td>\n",
       "      <td>2020-01-30 21:00:00</td>\n",
       "      <td>820</td>\n",
       "      <td>2.68</td>\n",
       "    </tr>\n",
       "    <tr>\n",
       "      <td>346</td>\n",
       "      <td>5806.0</td>\n",
       "      <td>2020-01-31 21:30:00</td>\n",
       "      <td>820</td>\n",
       "      <td>2.68</td>\n",
       "    </tr>\n",
       "    <tr>\n",
       "      <td>379</td>\n",
       "      <td>7153.0</td>\n",
       "      <td>2020-02-01 19:00:00</td>\n",
       "      <td>820</td>\n",
       "      <td>2.68</td>\n",
       "    </tr>\n",
       "  </tbody>\n",
       "</table>\n",
       "</div>"
      ],
      "text/plain": [
       "     Confirmed         Last Update  population_density  Transmission_Rate\n",
       "1        270.0 2020-01-22 00:00:00                 820               2.68\n",
       "30       444.0 2020-01-23 12:00:00                 820               2.68\n",
       "87       444.0 2020-01-24 12:00:00                 820               2.68\n",
       "112     1052.0 2020-01-26 22:00:00                 820               2.68\n",
       "144     1423.0 2020-01-27 23:00:00                 820               2.68\n",
       "212     2714.0 2020-01-28 20:30:00                 820               2.68\n",
       "235     3554.0 2020-01-29 23:00:00                 820               2.68\n",
       "291     4586.0 2020-01-30 21:00:00                 820               2.68\n",
       "346     5806.0 2020-01-31 21:30:00                 820               2.68\n",
       "379     7153.0 2020-02-01 19:00:00                 820               2.68"
      ]
     },
     "execution_count": 16,
     "metadata": {},
     "output_type": "execute_result"
    }
   ],
   "source": [
    "df_wuhan"
   ]
  },
  {
   "cell_type": "code",
   "execution_count": 17,
   "metadata": {},
   "outputs": [
    {
     "name": "stdout",
     "output_type": "stream",
     "text": [
      "<class 'pandas.core.frame.DataFrame'>\n",
      "Int64Index: 10 entries, 1 to 379\n",
      "Data columns (total 4 columns):\n",
      "Confirmed             10 non-null float64\n",
      "Last Update           10 non-null datetime64[ns]\n",
      "population_density    10 non-null int64\n",
      "Transmission_Rate     10 non-null float64\n",
      "dtypes: datetime64[ns](1), float64(2), int64(1)\n",
      "memory usage: 400.0 bytes\n"
     ]
    }
   ],
   "source": [
    "df_wuhan.info()"
   ]
  },
  {
   "cell_type": "code",
   "execution_count": 18,
   "metadata": {},
   "outputs": [
    {
     "name": "stderr",
     "output_type": "stream",
     "text": [
      "/Users/vijender/opt/anaconda3/lib/python3.7/site-packages/pandas/core/frame.py:4223: SettingWithCopyWarning: \n",
      "A value is trying to be set on a copy of a slice from a DataFrame\n",
      "\n",
      "See the caveats in the documentation: http://pandas.pydata.org/pandas-docs/stable/user_guide/indexing.html#returning-a-view-versus-a-copy\n",
      "  return super().rename(**kwargs)\n"
     ]
    }
   ],
   "source": [
    "df_wuhan.rename(columns = {\"Confirmed\":\"y\",\"Last Update\":\"ds\"},inplace=True)"
   ]
  },
  {
   "cell_type": "code",
   "execution_count": 23,
   "metadata": {},
   "outputs": [],
   "source": [
    "def cal_wuhan(df_wuhan):\n",
    "    test=df_wuhan.tail(2)\n",
    "    print(test.head())\n",
    "    df_wuhan=df_wuhan.head(8)\n",
    "    from fbprophet import Prophet\n",
    "    m = Prophet()\n",
    "    m.fit(df_wuhan)\n",
    "    test.drop(\"y\",inplace=True,axis=1)\n",
    "    forecast = m.predict(test)\n",
    "    #forecast[['ds', 'yhat', 'yhat_lower', 'yhat_upper']].tail()\n",
    "    print(forecast[\"yhat\"])"
   ]
  },
  {
   "cell_type": "markdown",
   "metadata": {},
   "source": [
    "So this will help us to train our model and get are prediction done on required dates"
   ]
  },
  {
   "cell_type": "code",
   "execution_count": 24,
   "metadata": {
    "scrolled": true
   },
   "outputs": [
    {
     "name": "stderr",
     "output_type": "stream",
     "text": [
      "INFO:fbprophet:Disabling yearly seasonality. Run prophet with yearly_seasonality=True to override this.\n",
      "INFO:fbprophet:Disabling weekly seasonality. Run prophet with weekly_seasonality=True to override this.\n",
      "INFO:fbprophet:n_changepoints greater than number of observations.Using 5.\n"
     ]
    },
    {
     "name": "stdout",
     "output_type": "stream",
     "text": [
      "          y                  ds  population_density  Transmission_Rate\n",
      "346  5806.0 2020-01-31 21:30:00                 820               2.68\n",
      "379  7153.0 2020-02-01 19:00:00                 820               2.68\n",
      "0    5436.075584\n",
      "1    7295.566838\n",
      "Name: yhat, dtype: float64\n"
     ]
    }
   ],
   "source": [
    "cal_wuhan(df_wuhan)"
   ]
  },
  {
   "cell_type": "markdown",
   "metadata": {},
   "source": [
    "Here, I had made prediction for three dates in Hubei Province:\n",
    "    1. 31th Dec --- 5436 Confirmed Cases\n",
    "    2. 1st Feb ---  7295 Confirmed Cases( A bit lower than expected but still close to the exact figure)"
   ]
  },
  {
   "cell_type": "markdown",
   "metadata": {},
   "source": [
    "# For other cities"
   ]
  },
  {
   "cell_type": "markdown",
   "metadata": {},
   "source": [
    "Now I am focusing on the all remaining cities of the china, I planned to train this model seperately because in all these cities Transportation Facilties are available and motion of affected and unaffected people is continued between cities and other countries too.\n",
    "\n",
    "Hence, We decided to add data for people's movement from one cities to another. But I am unable to find it out the exact dataset so for now i had skipped this step and trained the model.\n",
    "\n",
    "Still it made a nice prediction for required dates."
   ]
  },
  {
   "cell_type": "code",
   "execution_count": 69,
   "metadata": {},
   "outputs": [],
   "source": [
    "df_other_cities=df.loc[df[\"Country\"]==\"Mainland China\"]"
   ]
  },
  {
   "cell_type": "code",
   "execution_count": 70,
   "metadata": {},
   "outputs": [],
   "source": [
    "df_other_cities.drop([\"Country\"],inplace=True,axis=1)"
   ]
  },
  {
   "cell_type": "code",
   "execution_count": 71,
   "metadata": {},
   "outputs": [],
   "source": [
    "df_other_cities=df_other_cities.loc[df[\"Province/State\"]!=\"Hubei\"]"
   ]
  },
  {
   "cell_type": "code",
   "execution_count": 72,
   "metadata": {},
   "outputs": [
    {
     "data": {
      "text/html": [
       "<div>\n",
       "<style scoped>\n",
       "    .dataframe tbody tr th:only-of-type {\n",
       "        vertical-align: middle;\n",
       "    }\n",
       "\n",
       "    .dataframe tbody tr th {\n",
       "        vertical-align: top;\n",
       "    }\n",
       "\n",
       "    .dataframe thead th {\n",
       "        text-align: right;\n",
       "    }\n",
       "</style>\n",
       "<table border=\"1\" class=\"dataframe\">\n",
       "  <thead>\n",
       "    <tr style=\"text-align: right;\">\n",
       "      <th></th>\n",
       "      <th>Province/State</th>\n",
       "      <th>Confirmed</th>\n",
       "      <th>Last Update</th>\n",
       "    </tr>\n",
       "  </thead>\n",
       "  <tbody>\n",
       "    <tr>\n",
       "      <td>0</td>\n",
       "      <td>Yunnan</td>\n",
       "      <td>1.0</td>\n",
       "      <td>2020-01-21 00:00:00</td>\n",
       "    </tr>\n",
       "    <tr>\n",
       "      <td>2</td>\n",
       "      <td>Zhejiang</td>\n",
       "      <td>5.0</td>\n",
       "      <td>2020-01-21 00:00:00</td>\n",
       "    </tr>\n",
       "    <tr>\n",
       "      <td>3</td>\n",
       "      <td>Henan</td>\n",
       "      <td>1.0</td>\n",
       "      <td>2020-01-21 00:00:00</td>\n",
       "    </tr>\n",
       "    <tr>\n",
       "      <td>4</td>\n",
       "      <td>Jiangxi</td>\n",
       "      <td>2.0</td>\n",
       "      <td>2020-01-21 00:00:00</td>\n",
       "    </tr>\n",
       "    <tr>\n",
       "      <td>5</td>\n",
       "      <td>Guangxi</td>\n",
       "      <td>NaN</td>\n",
       "      <td>2020-01-21 00:00:00</td>\n",
       "    </tr>\n",
       "  </tbody>\n",
       "</table>\n",
       "</div>"
      ],
      "text/plain": [
       "  Province/State  Confirmed          Last Update\n",
       "0         Yunnan        1.0  2020-01-21 00:00:00\n",
       "2       Zhejiang        5.0  2020-01-21 00:00:00\n",
       "3          Henan        1.0  2020-01-21 00:00:00\n",
       "4        Jiangxi        2.0  2020-01-21 00:00:00\n",
       "5        Guangxi        NaN  2020-01-21 00:00:00"
      ]
     },
     "execution_count": 72,
     "metadata": {},
     "output_type": "execute_result"
    }
   ],
   "source": [
    "df_other_cities.head()"
   ]
  },
  {
   "cell_type": "code",
   "execution_count": 73,
   "metadata": {},
   "outputs": [
    {
     "data": {
      "text/plain": [
       "(263, 3)"
      ]
     },
     "execution_count": 73,
     "metadata": {},
     "output_type": "execute_result"
    }
   ],
   "source": [
    "df_other_cities.shape"
   ]
  },
  {
   "cell_type": "code",
   "execution_count": 74,
   "metadata": {},
   "outputs": [],
   "source": [
    "df_population_density=pd.read_csv(\"population_density.csv\",header=None)"
   ]
  },
  {
   "cell_type": "code",
   "execution_count": 75,
   "metadata": {},
   "outputs": [],
   "source": [
    "df_population_density.rename(columns = {0:\"Province/State\",1:\"population_density\"},inplace=True)"
   ]
  },
  {
   "cell_type": "code",
   "execution_count": 76,
   "metadata": {},
   "outputs": [],
   "source": [
    "df_other_cities = pd.merge(df_other_cities, df_population_density, on='Province/State')"
   ]
  },
  {
   "cell_type": "code",
   "execution_count": 77,
   "metadata": {},
   "outputs": [],
   "source": [
    "df_other_cities[\"Transmission_Rate\"]=2.68"
   ]
  },
  {
   "cell_type": "code",
   "execution_count": 78,
   "metadata": {},
   "outputs": [
    {
     "data": {
      "text/html": [
       "<div>\n",
       "<style scoped>\n",
       "    .dataframe tbody tr th:only-of-type {\n",
       "        vertical-align: middle;\n",
       "    }\n",
       "\n",
       "    .dataframe tbody tr th {\n",
       "        vertical-align: top;\n",
       "    }\n",
       "\n",
       "    .dataframe thead th {\n",
       "        text-align: right;\n",
       "    }\n",
       "</style>\n",
       "<table border=\"1\" class=\"dataframe\">\n",
       "  <thead>\n",
       "    <tr style=\"text-align: right;\">\n",
       "      <th></th>\n",
       "      <th>Province/State</th>\n",
       "      <th>Confirmed</th>\n",
       "      <th>Last Update</th>\n",
       "      <th>population_density</th>\n",
       "      <th>Transmission_Rate</th>\n",
       "    </tr>\n",
       "  </thead>\n",
       "  <tbody>\n",
       "    <tr>\n",
       "      <td>0</td>\n",
       "      <td>Yunnan</td>\n",
       "      <td>1.0</td>\n",
       "      <td>2020-01-21 00:00:00</td>\n",
       "      <td>300.0</td>\n",
       "      <td>2.68</td>\n",
       "    </tr>\n",
       "    <tr>\n",
       "      <td>1</td>\n",
       "      <td>Yunnan</td>\n",
       "      <td>1.0</td>\n",
       "      <td>2020-01-22 12:00:00</td>\n",
       "      <td>300.0</td>\n",
       "      <td>2.68</td>\n",
       "    </tr>\n",
       "    <tr>\n",
       "      <td>2</td>\n",
       "      <td>Yunnan</td>\n",
       "      <td>2.0</td>\n",
       "      <td>2020-01-23 12:00:00</td>\n",
       "      <td>300.0</td>\n",
       "      <td>2.68</td>\n",
       "    </tr>\n",
       "    <tr>\n",
       "      <td>3</td>\n",
       "      <td>Yunnan</td>\n",
       "      <td>19.0</td>\n",
       "      <td>2020-01-26 23:00:00</td>\n",
       "      <td>300.0</td>\n",
       "      <td>2.68</td>\n",
       "    </tr>\n",
       "    <tr>\n",
       "      <td>4</td>\n",
       "      <td>Yunnan</td>\n",
       "      <td>26.0</td>\n",
       "      <td>2020-01-27 20:30:00</td>\n",
       "      <td>300.0</td>\n",
       "      <td>2.68</td>\n",
       "    </tr>\n",
       "  </tbody>\n",
       "</table>\n",
       "</div>"
      ],
      "text/plain": [
       "  Province/State  Confirmed          Last Update  population_density  \\\n",
       "0         Yunnan        1.0  2020-01-21 00:00:00               300.0   \n",
       "1         Yunnan        1.0  2020-01-22 12:00:00               300.0   \n",
       "2         Yunnan        2.0  2020-01-23 12:00:00               300.0   \n",
       "3         Yunnan       19.0  2020-01-26 23:00:00               300.0   \n",
       "4         Yunnan       26.0  2020-01-27 20:30:00               300.0   \n",
       "\n",
       "   Transmission_Rate  \n",
       "0               2.68  \n",
       "1               2.68  \n",
       "2               2.68  \n",
       "3               2.68  \n",
       "4               2.68  "
      ]
     },
     "execution_count": 78,
     "metadata": {},
     "output_type": "execute_result"
    }
   ],
   "source": [
    "df_other_cities.head()"
   ]
  },
  {
   "cell_type": "code",
   "execution_count": 79,
   "metadata": {},
   "outputs": [],
   "source": [
    "df_other_cities[\"Last Update\"]=pd.to_datetime(df_other_cities[\"Last Update\"])\n",
    "df_other_cities[\"Last Update\"]=df_other_cities[\"Last Update\"]+ pd.DateOffset(1)\n",
    "df_other_cities[\"Last Update\"]=df_other_cities[\"Last Update\"].astype(str)"
   ]
  },
  {
   "cell_type": "code",
   "execution_count": 80,
   "metadata": {},
   "outputs": [],
   "source": [
    "df_other_cities[\"date\"]=df_other_cities[\"Last Update\"].str[:10]"
   ]
  },
  {
   "cell_type": "code",
   "execution_count": 81,
   "metadata": {},
   "outputs": [
    {
     "data": {
      "text/html": [
       "<div>\n",
       "<style scoped>\n",
       "    .dataframe tbody tr th:only-of-type {\n",
       "        vertical-align: middle;\n",
       "    }\n",
       "\n",
       "    .dataframe tbody tr th {\n",
       "        vertical-align: top;\n",
       "    }\n",
       "\n",
       "    .dataframe thead th {\n",
       "        text-align: right;\n",
       "    }\n",
       "</style>\n",
       "<table border=\"1\" class=\"dataframe\">\n",
       "  <thead>\n",
       "    <tr style=\"text-align: right;\">\n",
       "      <th></th>\n",
       "      <th>Province/State</th>\n",
       "      <th>Confirmed</th>\n",
       "      <th>Last Update</th>\n",
       "      <th>population_density</th>\n",
       "      <th>Transmission_Rate</th>\n",
       "      <th>date</th>\n",
       "    </tr>\n",
       "  </thead>\n",
       "  <tbody>\n",
       "    <tr>\n",
       "      <td>0</td>\n",
       "      <td>Yunnan</td>\n",
       "      <td>1.0</td>\n",
       "      <td>2020-01-22 00:00:00</td>\n",
       "      <td>300.0</td>\n",
       "      <td>2.68</td>\n",
       "      <td>2020-01-22</td>\n",
       "    </tr>\n",
       "    <tr>\n",
       "      <td>1</td>\n",
       "      <td>Yunnan</td>\n",
       "      <td>1.0</td>\n",
       "      <td>2020-01-23 12:00:00</td>\n",
       "      <td>300.0</td>\n",
       "      <td>2.68</td>\n",
       "      <td>2020-01-23</td>\n",
       "    </tr>\n",
       "    <tr>\n",
       "      <td>2</td>\n",
       "      <td>Yunnan</td>\n",
       "      <td>2.0</td>\n",
       "      <td>2020-01-24 12:00:00</td>\n",
       "      <td>300.0</td>\n",
       "      <td>2.68</td>\n",
       "      <td>2020-01-24</td>\n",
       "    </tr>\n",
       "    <tr>\n",
       "      <td>3</td>\n",
       "      <td>Yunnan</td>\n",
       "      <td>19.0</td>\n",
       "      <td>2020-01-27 23:00:00</td>\n",
       "      <td>300.0</td>\n",
       "      <td>2.68</td>\n",
       "      <td>2020-01-27</td>\n",
       "    </tr>\n",
       "    <tr>\n",
       "      <td>4</td>\n",
       "      <td>Yunnan</td>\n",
       "      <td>26.0</td>\n",
       "      <td>2020-01-28 20:30:00</td>\n",
       "      <td>300.0</td>\n",
       "      <td>2.68</td>\n",
       "      <td>2020-01-28</td>\n",
       "    </tr>\n",
       "    <tr>\n",
       "      <td>...</td>\n",
       "      <td>...</td>\n",
       "      <td>...</td>\n",
       "      <td>...</td>\n",
       "      <td>...</td>\n",
       "      <td>...</td>\n",
       "      <td>...</td>\n",
       "    </tr>\n",
       "    <tr>\n",
       "      <td>239</td>\n",
       "      <td>Qinghai</td>\n",
       "      <td>6.0</td>\n",
       "      <td>2020-01-28 20:30:00</td>\n",
       "      <td>20.0</td>\n",
       "      <td>2.68</td>\n",
       "      <td>2020-01-28</td>\n",
       "    </tr>\n",
       "    <tr>\n",
       "      <td>240</td>\n",
       "      <td>Qinghai</td>\n",
       "      <td>6.0</td>\n",
       "      <td>2020-01-29 23:00:00</td>\n",
       "      <td>20.0</td>\n",
       "      <td>2.68</td>\n",
       "      <td>2020-01-29</td>\n",
       "    </tr>\n",
       "    <tr>\n",
       "      <td>241</td>\n",
       "      <td>Qinghai</td>\n",
       "      <td>6.0</td>\n",
       "      <td>2020-01-30 21:00:00</td>\n",
       "      <td>20.0</td>\n",
       "      <td>2.68</td>\n",
       "      <td>2020-01-30</td>\n",
       "    </tr>\n",
       "    <tr>\n",
       "      <td>242</td>\n",
       "      <td>Qinghai</td>\n",
       "      <td>8.0</td>\n",
       "      <td>2020-01-31 21:30:00</td>\n",
       "      <td>20.0</td>\n",
       "      <td>2.68</td>\n",
       "      <td>2020-01-31</td>\n",
       "    </tr>\n",
       "    <tr>\n",
       "      <td>243</td>\n",
       "      <td>Qinghai</td>\n",
       "      <td>8.0</td>\n",
       "      <td>2020-02-01 19:00:00</td>\n",
       "      <td>20.0</td>\n",
       "      <td>2.68</td>\n",
       "      <td>2020-02-01</td>\n",
       "    </tr>\n",
       "  </tbody>\n",
       "</table>\n",
       "<p>244 rows × 6 columns</p>\n",
       "</div>"
      ],
      "text/plain": [
       "    Province/State  Confirmed          Last Update  population_density  \\\n",
       "0           Yunnan        1.0  2020-01-22 00:00:00               300.0   \n",
       "1           Yunnan        1.0  2020-01-23 12:00:00               300.0   \n",
       "2           Yunnan        2.0  2020-01-24 12:00:00               300.0   \n",
       "3           Yunnan       19.0  2020-01-27 23:00:00               300.0   \n",
       "4           Yunnan       26.0  2020-01-28 20:30:00               300.0   \n",
       "..             ...        ...                  ...                 ...   \n",
       "239        Qinghai        6.0  2020-01-28 20:30:00                20.0   \n",
       "240        Qinghai        6.0  2020-01-29 23:00:00                20.0   \n",
       "241        Qinghai        6.0  2020-01-30 21:00:00                20.0   \n",
       "242        Qinghai        8.0  2020-01-31 21:30:00                20.0   \n",
       "243        Qinghai        8.0  2020-02-01 19:00:00                20.0   \n",
       "\n",
       "     Transmission_Rate        date  \n",
       "0                 2.68  2020-01-22  \n",
       "1                 2.68  2020-01-23  \n",
       "2                 2.68  2020-01-24  \n",
       "3                 2.68  2020-01-27  \n",
       "4                 2.68  2020-01-28  \n",
       "..                 ...         ...  \n",
       "239               2.68  2020-01-28  \n",
       "240               2.68  2020-01-29  \n",
       "241               2.68  2020-01-30  \n",
       "242               2.68  2020-01-31  \n",
       "243               2.68  2020-02-01  \n",
       "\n",
       "[244 rows x 6 columns]"
      ]
     },
     "execution_count": 81,
     "metadata": {},
     "output_type": "execute_result"
    }
   ],
   "source": [
    "df_other_cities"
   ]
  },
  {
   "cell_type": "code",
   "execution_count": 91,
   "metadata": {},
   "outputs": [],
   "source": [
    "df_other_cities=df_other_cities.fillna(0.0)"
   ]
  },
  {
   "cell_type": "code",
   "execution_count": 105,
   "metadata": {},
   "outputs": [],
   "source": [
    "def cal_31(df_other_cities):\n",
    "    df_31=df_other_cities.loc[df_other_cities[\"date\"]=='2020-01-31']\n",
    "    test=df_31\n",
    "    df_other_cities=df_other_cities.loc[df_other_cities[\"date\"]!='2020-01-31']\n",
    "    df_other_cities=df_other_cities.loc[df_other_cities[\"date\"]!='2020-02-01']\n",
    "    df_other_cities.drop(\"date\",inplace=True,axis=1)\n",
    "    test.drop([\"date\",\"Confirmed\"],inplace=True,axis=1)\n",
    "    df_other_cities[\"Last Update\"]=pd.to_datetime(df_other_cities[\"Last Update\"])\n",
    "    test[\"Last Update\"]=pd.to_datetime(test[\"Last Update\"])\n",
    "    test.sort_values(by=[\"Last Update\"])\n",
    "    df_other_cities.rename(columns = {\"Confirmed\":\"y\",\"Last Update\":\"ds\"},inplace=True)\n",
    "    test.rename(columns = {\"Last Update\":\"ds\"},inplace=True)\n",
    "    province=df_other_cities[\"Province/State\"].unique()\n",
    "    #sum31=0\n",
    "    sum31=0\n",
    "    for i in province:\n",
    "        if i== \"Taiwan\" or i==\"Macau\":\n",
    "            continue\n",
    "        print(\"*******\",i,\"DATA ****************\")\n",
    "        city=df_other_cities[df_other_cities[\"Province/State\"]==i]\n",
    "        from fbprophet import Prophet\n",
    "        m_cities = Prophet()\n",
    "        m_cities.fit(city)\n",
    "        city_test=test[test[\"Province/State\"]==i]\n",
    "        forecast = m_cities.predict(city_test)\n",
    "        print(forecast[['ds', 'yhat', 'yhat_lower', 'yhat_upper']].tail())\n",
    "        sum31+=forecast[\"yhat\"][0]\n",
    "        #sum31+=forecast[\"yhat\"][0]\n",
    "\n",
    "    print(\"For Date 31:  \",sum31)\n",
    "    #print(\"For Date 31:  \",sum31)"
   ]
  },
  {
   "cell_type": "markdown",
   "metadata": {},
   "source": [
    "Here, we are predicting no of Confirmed Cases for 31th Jan in rest of the cities of China."
   ]
  },
  {
   "cell_type": "code",
   "execution_count": 106,
   "metadata": {
    "scrolled": true
   },
   "outputs": [
    {
     "name": "stderr",
     "output_type": "stream",
     "text": [
      "/Users/vijender/opt/anaconda3/lib/python3.7/site-packages/ipykernel_launcher.py:9: SettingWithCopyWarning:\n",
      "\n",
      "\n",
      "A value is trying to be set on a copy of a slice from a DataFrame.\n",
      "Try using .loc[row_indexer,col_indexer] = value instead\n",
      "\n",
      "See the caveats in the documentation: http://pandas.pydata.org/pandas-docs/stable/user_guide/indexing.html#returning-a-view-versus-a-copy\n",
      "\n",
      "INFO:fbprophet:Disabling yearly seasonality. Run prophet with yearly_seasonality=True to override this.\n",
      "INFO:fbprophet:Disabling weekly seasonality. Run prophet with weekly_seasonality=True to override this.\n",
      "INFO:fbprophet:n_changepoints greater than number of observations.Using 4.\n"
     ]
    },
    {
     "name": "stdout",
     "output_type": "stream",
     "text": [
      "******* Yunnan DATA ****************\n"
     ]
    },
    {
     "name": "stderr",
     "output_type": "stream",
     "text": [
      "INFO:fbprophet:Disabling yearly seasonality. Run prophet with yearly_seasonality=True to override this.\n",
      "INFO:fbprophet:Disabling weekly seasonality. Run prophet with weekly_seasonality=True to override this.\n",
      "INFO:fbprophet:n_changepoints greater than number of observations.Using 5.\n"
     ]
    },
    {
     "name": "stdout",
     "output_type": "stream",
     "text": [
      "                   ds       yhat  yhat_lower  yhat_upper\n",
      "0 2020-01-31 21:30:00  65.507679   62.076863   69.123453\n",
      "******* Zhejiang DATA ****************\n"
     ]
    },
    {
     "name": "stderr",
     "output_type": "stream",
     "text": [
      "INFO:fbprophet:Disabling yearly seasonality. Run prophet with yearly_seasonality=True to override this.\n",
      "INFO:fbprophet:Disabling weekly seasonality. Run prophet with weekly_seasonality=True to override this.\n",
      "INFO:fbprophet:n_changepoints greater than number of observations.Using 4.\n"
     ]
    },
    {
     "name": "stdout",
     "output_type": "stream",
     "text": [
      "                   ds        yhat  yhat_lower  yhat_upper\n",
      "0 2020-01-31 21:30:00  507.666623  487.573691   527.54455\n",
      "******* Henan DATA ****************\n"
     ]
    },
    {
     "name": "stderr",
     "output_type": "stream",
     "text": [
      "INFO:fbprophet:Disabling yearly seasonality. Run prophet with yearly_seasonality=True to override this.\n",
      "INFO:fbprophet:Disabling weekly seasonality. Run prophet with weekly_seasonality=True to override this.\n",
      "INFO:fbprophet:n_changepoints greater than number of observations.Using 4.\n"
     ]
    },
    {
     "name": "stdout",
     "output_type": "stream",
     "text": [
      "                   ds        yhat  yhat_lower  yhat_upper\n",
      "0 2020-01-31 21:30:00  320.537125   308.32764   333.12735\n",
      "******* Jiangxi DATA ****************\n"
     ]
    },
    {
     "name": "stderr",
     "output_type": "stream",
     "text": [
      "INFO:fbprophet:Disabling yearly seasonality. Run prophet with yearly_seasonality=True to override this.\n",
      "INFO:fbprophet:Disabling weekly seasonality. Run prophet with weekly_seasonality=True to override this.\n",
      "INFO:fbprophet:n_changepoints greater than number of observations.Using 4.\n"
     ]
    },
    {
     "name": "stdout",
     "output_type": "stream",
     "text": [
      "                   ds        yhat  yhat_lower  yhat_upper\n",
      "0 2020-01-31 21:30:00  193.038756  185.688055  200.394528\n",
      "******* Guangxi DATA ****************\n"
     ]
    },
    {
     "name": "stderr",
     "output_type": "stream",
     "text": [
      "INFO:fbprophet:Disabling yearly seasonality. Run prophet with yearly_seasonality=True to override this.\n",
      "INFO:fbprophet:Disabling weekly seasonality. Run prophet with weekly_seasonality=True to override this.\n",
      "INFO:fbprophet:n_changepoints greater than number of observations.Using 4.\n"
     ]
    },
    {
     "name": "stdout",
     "output_type": "stream",
     "text": [
      "                   ds       yhat  yhat_lower  yhat_upper\n",
      "0 2020-01-31 21:30:00  90.338445   89.372252   91.192094\n",
      "******* Guangdong DATA ****************\n"
     ]
    },
    {
     "name": "stderr",
     "output_type": "stream",
     "text": [
      "INFO:fbprophet:Disabling yearly seasonality. Run prophet with yearly_seasonality=True to override this.\n",
      "INFO:fbprophet:Disabling weekly seasonality. Run prophet with weekly_seasonality=True to override this.\n",
      "INFO:fbprophet:n_changepoints greater than number of observations.Using 4.\n"
     ]
    },
    {
     "name": "stdout",
     "output_type": "stream",
     "text": [
      "                   ds        yhat  yhat_lower  yhat_upper\n",
      "0 2020-01-31 21:30:00  376.735533  364.181834  389.654364\n",
      "******* Shandong DATA ****************\n"
     ]
    },
    {
     "name": "stderr",
     "output_type": "stream",
     "text": [
      "INFO:fbprophet:Disabling yearly seasonality. Run prophet with yearly_seasonality=True to override this.\n",
      "INFO:fbprophet:Disabling weekly seasonality. Run prophet with weekly_seasonality=True to override this.\n",
      "INFO:fbprophet:n_changepoints greater than number of observations.Using 4.\n"
     ]
    },
    {
     "name": "stdout",
     "output_type": "stream",
     "text": [
      "                   ds        yhat  yhat_lower  yhat_upper\n",
      "0 2020-01-31 21:30:00  166.625907  158.972965  174.003308\n",
      "******* Anhui DATA ****************\n"
     ]
    },
    {
     "name": "stderr",
     "output_type": "stream",
     "text": [
      "INFO:fbprophet:Disabling yearly seasonality. Run prophet with yearly_seasonality=True to override this.\n",
      "INFO:fbprophet:Disabling weekly seasonality. Run prophet with weekly_seasonality=True to override this.\n",
      "INFO:fbprophet:n_changepoints greater than number of observations.Using 4.\n"
     ]
    },
    {
     "name": "stdout",
     "output_type": "stream",
     "text": [
      "                   ds        yhat  yhat_lower  yhat_upper\n",
      "0 2020-01-31 21:30:00  232.598726  222.923492  242.429045\n",
      "******* Tianjin DATA ****************\n"
     ]
    },
    {
     "name": "stderr",
     "output_type": "stream",
     "text": [
      "INFO:fbprophet:Disabling yearly seasonality. Run prophet with yearly_seasonality=True to override this.\n",
      "INFO:fbprophet:Disabling weekly seasonality. Run prophet with weekly_seasonality=True to override this.\n",
      "INFO:fbprophet:n_changepoints greater than number of observations.Using 4.\n"
     ]
    },
    {
     "name": "stdout",
     "output_type": "stream",
     "text": [
      "                   ds       yhat  yhat_lower  yhat_upper\n",
      "0 2020-01-31 21:30:00  27.962682   26.174126   29.624012\n",
      "******* Sichuan DATA ****************\n"
     ]
    },
    {
     "name": "stderr",
     "output_type": "stream",
     "text": [
      "INFO:fbprophet:Disabling yearly seasonality. Run prophet with yearly_seasonality=True to override this.\n",
      "INFO:fbprophet:Disabling weekly seasonality. Run prophet with weekly_seasonality=True to override this.\n",
      "INFO:fbprophet:n_changepoints greater than number of observations.Using 4.\n"
     ]
    },
    {
     "name": "stdout",
     "output_type": "stream",
     "text": [
      "                   ds        yhat  yhat_lower  yhat_upper\n",
      "0 2020-01-31 21:30:00  162.254867  157.078559  167.352782\n",
      "******* Jilin DATA ****************\n"
     ]
    },
    {
     "name": "stderr",
     "output_type": "stream",
     "text": [
      "INFO:fbprophet:Disabling yearly seasonality. Run prophet with yearly_seasonality=True to override this.\n",
      "INFO:fbprophet:Disabling weekly seasonality. Run prophet with weekly_seasonality=True to override this.\n",
      "INFO:fbprophet:n_changepoints greater than number of observations.Using 4.\n"
     ]
    },
    {
     "name": "stdout",
     "output_type": "stream",
     "text": [
      "                   ds       yhat  yhat_lower  yhat_upper\n",
      "0 2020-01-31 21:30:00  17.455824   17.407138   17.485629\n",
      "******* Beijing DATA ****************\n"
     ]
    },
    {
     "name": "stderr",
     "output_type": "stream",
     "text": [
      "INFO:fbprophet:Disabling yearly seasonality. Run prophet with yearly_seasonality=True to override this.\n",
      "INFO:fbprophet:Disabling weekly seasonality. Run prophet with weekly_seasonality=True to override this.\n",
      "INFO:fbprophet:n_changepoints greater than number of observations.Using 4.\n"
     ]
    },
    {
     "name": "stdout",
     "output_type": "stream",
     "text": [
      "                   ds        yhat  yhat_lower  yhat_upper\n",
      "0 2020-01-31 21:30:00  124.080694  123.679273  124.388062\n",
      "******* Shanghai DATA ****************\n"
     ]
    },
    {
     "name": "stderr",
     "output_type": "stream",
     "text": [
      "INFO:fbprophet:Disabling yearly seasonality. Run prophet with yearly_seasonality=True to override this.\n",
      "INFO:fbprophet:Disabling weekly seasonality. Run prophet with weekly_seasonality=True to override this.\n",
      "INFO:fbprophet:n_changepoints greater than number of observations.Using 4.\n"
     ]
    },
    {
     "name": "stdout",
     "output_type": "stream",
     "text": [
      "                   ds        yhat  yhat_lower  yhat_upper\n",
      "0 2020-01-31 21:30:00  114.329572  112.331422  116.270036\n",
      "******* Hunan DATA ****************\n"
     ]
    },
    {
     "name": "stderr",
     "output_type": "stream",
     "text": [
      "INFO:fbprophet:Disabling yearly seasonality. Run prophet with yearly_seasonality=True to override this.\n",
      "INFO:fbprophet:Disabling weekly seasonality. Run prophet with weekly_seasonality=True to override this.\n",
      "INFO:fbprophet:n_changepoints greater than number of observations.Using 4.\n"
     ]
    },
    {
     "name": "stdout",
     "output_type": "stream",
     "text": [
      "                   ds        yhat  yhat_lower  yhat_upper\n",
      "0 2020-01-31 21:30:00  347.451398  330.158169  364.190878\n",
      "******* Guizhou DATA ****************\n"
     ]
    },
    {
     "name": "stderr",
     "output_type": "stream",
     "text": [
      "INFO:fbprophet:Disabling yearly seasonality. Run prophet with yearly_seasonality=True to override this.\n",
      "INFO:fbprophet:Disabling weekly seasonality. Run prophet with weekly_seasonality=True to override this.\n",
      "INFO:fbprophet:n_changepoints greater than number of observations.Using 4.\n"
     ]
    },
    {
     "name": "stdout",
     "output_type": "stream",
     "text": [
      "                   ds       yhat  yhat_lower  yhat_upper\n",
      "0 2020-01-31 21:30:00  13.189594   12.870533    13.50196\n",
      "******* Hainan DATA ****************\n"
     ]
    },
    {
     "name": "stderr",
     "output_type": "stream",
     "text": [
      "INFO:fbprophet:Disabling yearly seasonality. Run prophet with yearly_seasonality=True to override this.\n",
      "INFO:fbprophet:Disabling weekly seasonality. Run prophet with weekly_seasonality=True to override this.\n",
      "INFO:fbprophet:n_changepoints greater than number of observations.Using 4.\n"
     ]
    },
    {
     "name": "stdout",
     "output_type": "stream",
     "text": [
      "                   ds       yhat  yhat_lower  yhat_upper\n",
      "0 2020-01-31 21:30:00  46.678558   44.074776   49.186827\n",
      "******* Chongqing DATA ****************\n"
     ]
    },
    {
     "name": "stderr",
     "output_type": "stream",
     "text": [
      "INFO:fbprophet:Disabling yearly seasonality. Run prophet with yearly_seasonality=True to override this.\n",
      "INFO:fbprophet:Disabling weekly seasonality. Run prophet with weekly_seasonality=True to override this.\n",
      "INFO:fbprophet:n_changepoints greater than number of observations.Using 4.\n"
     ]
    },
    {
     "name": "stdout",
     "output_type": "stream",
     "text": [
      "                   ds        yhat  yhat_lower  yhat_upper\n",
      "0 2020-01-31 21:30:00  181.878877  177.134853  186.539124\n",
      "******* Heilongjiang DATA ****************\n"
     ]
    },
    {
     "name": "stderr",
     "output_type": "stream",
     "text": [
      "INFO:fbprophet:Disabling yearly seasonality. Run prophet with yearly_seasonality=True to override this.\n",
      "INFO:fbprophet:Disabling weekly seasonality. Run prophet with weekly_seasonality=True to override this.\n",
      "INFO:fbprophet:n_changepoints greater than number of observations.Using 4.\n"
     ]
    },
    {
     "name": "stdout",
     "output_type": "stream",
     "text": [
      "                   ds       yhat  yhat_lower  yhat_upper\n",
      "0 2020-01-31 21:30:00  47.846654    46.22329   49.727911\n",
      "******* Liaoning DATA ****************\n"
     ]
    },
    {
     "name": "stderr",
     "output_type": "stream",
     "text": [
      "INFO:fbprophet:Disabling yearly seasonality. Run prophet with yearly_seasonality=True to override this.\n",
      "INFO:fbprophet:Disabling weekly seasonality. Run prophet with weekly_seasonality=True to override this.\n",
      "INFO:fbprophet:n_changepoints greater than number of observations.Using 3.\n"
     ]
    },
    {
     "name": "stdout",
     "output_type": "stream",
     "text": [
      "                   ds       yhat  yhat_lower  yhat_upper\n",
      "0 2020-01-31 21:30:00  44.546273   42.836308   46.182495\n",
      "******* Jiangsu DATA ****************\n"
     ]
    },
    {
     "name": "stderr",
     "output_type": "stream",
     "text": [
      "INFO:fbprophet:Disabling yearly seasonality. Run prophet with yearly_seasonality=True to override this.\n",
      "INFO:fbprophet:Disabling weekly seasonality. Run prophet with weekly_seasonality=True to override this.\n",
      "INFO:fbprophet:n_changepoints greater than number of observations.Using 3.\n"
     ]
    },
    {
     "name": "stdout",
     "output_type": "stream",
     "text": [
      "                   ds       yhat  yhat_lower  yhat_upper\n",
      "0 2020-01-31 21:30:00  159.75786  152.503575  166.932116\n",
      "******* Gansu DATA ****************\n"
     ]
    },
    {
     "name": "stderr",
     "output_type": "stream",
     "text": [
      "INFO:fbprophet:Disabling yearly seasonality. Run prophet with yearly_seasonality=True to override this.\n",
      "INFO:fbprophet:Disabling weekly seasonality. Run prophet with weekly_seasonality=True to override this.\n",
      "INFO:fbprophet:n_changepoints greater than number of observations.Using 3.\n"
     ]
    },
    {
     "name": "stdout",
     "output_type": "stream",
     "text": [
      "                   ds       yhat  yhat_lower  yhat_upper\n",
      "0 2020-01-31 21:30:00  29.381018   28.408354   30.392721\n",
      "******* Fujian DATA ****************\n"
     ]
    },
    {
     "name": "stderr",
     "output_type": "stream",
     "text": [
      "INFO:fbprophet:Disabling yearly seasonality. Run prophet with yearly_seasonality=True to override this.\n",
      "INFO:fbprophet:Disabling weekly seasonality. Run prophet with weekly_seasonality=True to override this.\n",
      "INFO:fbprophet:n_changepoints greater than number of observations.Using 3.\n"
     ]
    },
    {
     "name": "stdout",
     "output_type": "stream",
     "text": [
      "                   ds        yhat  yhat_lower  yhat_upper\n",
      "0 2020-01-31 21:30:00  122.068144   115.47153  129.045539\n",
      "******* Hebei DATA ****************\n"
     ]
    },
    {
     "name": "stderr",
     "output_type": "stream",
     "text": [
      "INFO:fbprophet:Disabling yearly seasonality. Run prophet with yearly_seasonality=True to override this.\n",
      "INFO:fbprophet:Disabling weekly seasonality. Run prophet with weekly_seasonality=True to override this.\n",
      "INFO:fbprophet:Disabling daily seasonality. Run prophet with daily_seasonality=True to override this.\n",
      "INFO:fbprophet:n_changepoints greater than number of observations.Using 1.\n"
     ]
    },
    {
     "name": "stdout",
     "output_type": "stream",
     "text": [
      "                   ds       yhat  yhat_lower  yhat_upper\n",
      "0 2020-01-31 21:30:00  81.441344   76.017782   86.336539\n",
      "******* Tibet DATA ****************\n"
     ]
    },
    {
     "name": "stderr",
     "output_type": "stream",
     "text": [
      "INFO:fbprophet:Disabling yearly seasonality. Run prophet with yearly_seasonality=True to override this.\n",
      "INFO:fbprophet:Disabling weekly seasonality. Run prophet with weekly_seasonality=True to override this.\n",
      "INFO:fbprophet:n_changepoints greater than number of observations.Using 3.\n"
     ]
    },
    {
     "name": "stdout",
     "output_type": "stream",
     "text": [
      "                   ds      yhat  yhat_lower  yhat_upper\n",
      "0 2020-01-31 21:30:00  1.135788    1.061239    1.213491\n",
      "******* Xinjiang DATA ****************\n"
     ]
    },
    {
     "name": "stderr",
     "output_type": "stream",
     "text": [
      "INFO:fbprophet:Disabling yearly seasonality. Run prophet with yearly_seasonality=True to override this.\n",
      "INFO:fbprophet:Disabling weekly seasonality. Run prophet with weekly_seasonality=True to override this.\n",
      "INFO:fbprophet:n_changepoints greater than number of observations.Using 3.\n"
     ]
    },
    {
     "name": "stdout",
     "output_type": "stream",
     "text": [
      "                   ds       yhat  yhat_lower  yhat_upper\n",
      "0 2020-01-31 21:30:00  19.141459   18.448019   19.804589\n",
      "******* Shanxi DATA ****************\n"
     ]
    },
    {
     "name": "stderr",
     "output_type": "stream",
     "text": [
      "INFO:fbprophet:Disabling yearly seasonality. Run prophet with yearly_seasonality=True to override this.\n",
      "INFO:fbprophet:Disabling weekly seasonality. Run prophet with weekly_seasonality=True to override this.\n",
      "INFO:fbprophet:n_changepoints greater than number of observations.Using 3.\n"
     ]
    },
    {
     "name": "stdout",
     "output_type": "stream",
     "text": [
      "                   ds       yhat  yhat_lower  yhat_upper\n",
      "0 2020-01-31 21:30:00  42.794903   40.672101   45.181021\n",
      "******* Shaanxi DATA ****************\n"
     ]
    },
    {
     "name": "stderr",
     "output_type": "stream",
     "text": [
      "INFO:fbprophet:Disabling yearly seasonality. Run prophet with yearly_seasonality=True to override this.\n",
      "INFO:fbprophet:Disabling weekly seasonality. Run prophet with weekly_seasonality=True to override this.\n",
      "INFO:fbprophet:n_changepoints greater than number of observations.Using 3.\n"
     ]
    },
    {
     "name": "stdout",
     "output_type": "stream",
     "text": [
      "                   ds       yhat  yhat_lower  yhat_upper\n",
      "0 2020-01-31 21:30:00  66.571407   62.159605   71.085868\n",
      "******* Qinghai DATA ****************\n",
      "                   ds      yhat  yhat_lower  yhat_upper\n",
      "0 2020-01-31 21:30:00  5.767377     5.43131    6.093597\n",
      "For Date 31:   3608.7830867832417\n"
     ]
    }
   ],
   "source": [
    "cal_31(df_other_cities)"
   ]
  },
  {
   "cell_type": "markdown",
   "metadata": {},
   "source": [
    "For 31th Jan -- 3609 Confirmed Cases "
   ]
  },
  {
   "cell_type": "code",
   "execution_count": 103,
   "metadata": {},
   "outputs": [],
   "source": [
    "def cal_1feb(df_other_cities):\n",
    "    df_1feb=df_other_cities.loc[df_other_cities[\"date\"]=='2020-02-01']\n",
    "    test=df_1feb\n",
    "    #df_other_cities=df_other_cities.loc[df_other_cities[\"date\"]!='2020-01-31']\n",
    "    df_other_cities=df_other_cities.loc[df_other_cities[\"date\"]!='2020-02-01']\n",
    "    df_other_cities.drop(\"date\",inplace=True,axis=1)\n",
    "    test.drop([\"date\",\"Confirmed\"],inplace=True,axis=1)\n",
    "    df_other_cities[\"Last Update\"]=pd.to_datetime(df_other_cities[\"Last Update\"])\n",
    "    test[\"Last Update\"]=pd.to_datetime(test[\"Last Update\"])\n",
    "    test.sort_values(by=[\"Last Update\"])\n",
    "    df_other_cities.rename(columns = {\"Confirmed\":\"y\",\"Last Update\":\"ds\"},inplace=True)\n",
    "    test.rename(columns = {\"Last Update\":\"ds\"},inplace=True)\n",
    "    province=df_other_cities[\"Province/State\"].unique()\n",
    "    #sum31=0\n",
    "    sum_1feb=0\n",
    "    for i in province:\n",
    "        if i== \"Taiwan\" or i==\"Macau\":\n",
    "            continue\n",
    "        print(\"*******\",i,\"DATA ****************\")\n",
    "        city=df_other_cities[df_other_cities[\"Province/State\"]==i]\n",
    "        from fbprophet import Prophet\n",
    "        m_cities = Prophet()\n",
    "        m_cities.fit(city)\n",
    "        city_test=test[test[\"Province/State\"]==i]\n",
    "        forecast = m_cities.predict(city_test)\n",
    "        print(forecast[['ds', 'yhat', 'yhat_lower', 'yhat_upper']].tail())\n",
    "        sum_1feb+=abs(forecast[\"yhat\"][0])\n",
    "        #sum31+=forecast[\"yhat\"][0]\n",
    "\n",
    "    print(\"For Date 1st Feb:  \",sum_1feb)\n",
    "    #print(\"For Date 31:  \",sum31)"
   ]
  },
  {
   "cell_type": "markdown",
   "metadata": {},
   "source": [
    "Here, we are predicting no of Confirmed Cases for 1st Feb in rest of the cities of China."
   ]
  },
  {
   "cell_type": "code",
   "execution_count": 104,
   "metadata": {
    "scrolled": true
   },
   "outputs": [
    {
     "name": "stderr",
     "output_type": "stream",
     "text": [
      "/Users/vijender/opt/anaconda3/lib/python3.7/site-packages/ipykernel_launcher.py:8: SettingWithCopyWarning:\n",
      "\n",
      "\n",
      "A value is trying to be set on a copy of a slice from a DataFrame.\n",
      "Try using .loc[row_indexer,col_indexer] = value instead\n",
      "\n",
      "See the caveats in the documentation: http://pandas.pydata.org/pandas-docs/stable/user_guide/indexing.html#returning-a-view-versus-a-copy\n",
      "\n",
      "/Users/vijender/opt/anaconda3/lib/python3.7/site-packages/ipykernel_launcher.py:9: SettingWithCopyWarning:\n",
      "\n",
      "\n",
      "A value is trying to be set on a copy of a slice from a DataFrame.\n",
      "Try using .loc[row_indexer,col_indexer] = value instead\n",
      "\n",
      "See the caveats in the documentation: http://pandas.pydata.org/pandas-docs/stable/user_guide/indexing.html#returning-a-view-versus-a-copy\n",
      "\n",
      "INFO:fbprophet:Disabling yearly seasonality. Run prophet with yearly_seasonality=True to override this.\n",
      "INFO:fbprophet:Disabling weekly seasonality. Run prophet with weekly_seasonality=True to override this.\n",
      "INFO:fbprophet:n_changepoints greater than number of observations.Using 5.\n"
     ]
    },
    {
     "name": "stdout",
     "output_type": "stream",
     "text": [
      "******* Yunnan DATA ****************\n"
     ]
    },
    {
     "name": "stderr",
     "output_type": "stream",
     "text": [
      "INFO:fbprophet:Disabling yearly seasonality. Run prophet with yearly_seasonality=True to override this.\n",
      "INFO:fbprophet:Disabling weekly seasonality. Run prophet with weekly_seasonality=True to override this.\n",
      "INFO:fbprophet:n_changepoints greater than number of observations.Using 6.\n"
     ]
    },
    {
     "name": "stdout",
     "output_type": "stream",
     "text": [
      "                   ds        yhat  yhat_lower  yhat_upper\n",
      "0 2020-02-01 19:00:00  174.771122  171.647805  177.935681\n",
      "******* Zhejiang DATA ****************\n"
     ]
    },
    {
     "name": "stderr",
     "output_type": "stream",
     "text": [
      "INFO:fbprophet:Disabling yearly seasonality. Run prophet with yearly_seasonality=True to override this.\n",
      "INFO:fbprophet:Disabling weekly seasonality. Run prophet with weekly_seasonality=True to override this.\n",
      "INFO:fbprophet:n_changepoints greater than number of observations.Using 5.\n"
     ]
    },
    {
     "name": "stdout",
     "output_type": "stream",
     "text": [
      "                   ds      yhat  yhat_lower  yhat_upper\n",
      "0 2020-02-01 19:00:00 -8.995516  -27.526187   10.872209\n",
      "******* Henan DATA ****************\n"
     ]
    },
    {
     "name": "stderr",
     "output_type": "stream",
     "text": [
      "INFO:fbprophet:Disabling yearly seasonality. Run prophet with yearly_seasonality=True to override this.\n",
      "INFO:fbprophet:Disabling weekly seasonality. Run prophet with weekly_seasonality=True to override this.\n",
      "INFO:fbprophet:n_changepoints greater than number of observations.Using 5.\n"
     ]
    },
    {
     "name": "stdout",
     "output_type": "stream",
     "text": [
      "                   ds        yhat  yhat_lower  yhat_upper\n",
      "0 2020-02-01 19:00:00  551.062768  540.011589  562.805171\n",
      "******* Jiangxi DATA ****************\n"
     ]
    },
    {
     "name": "stderr",
     "output_type": "stream",
     "text": [
      "INFO:fbprophet:Disabling yearly seasonality. Run prophet with yearly_seasonality=True to override this.\n",
      "INFO:fbprophet:Disabling weekly seasonality. Run prophet with weekly_seasonality=True to override this.\n",
      "INFO:fbprophet:n_changepoints greater than number of observations.Using 5.\n"
     ]
    },
    {
     "name": "stdout",
     "output_type": "stream",
     "text": [
      "                   ds        yhat  yhat_lower  yhat_upper\n",
      "0 2020-02-01 19:00:00  724.674266  717.281859  732.294227\n",
      "******* Guangxi DATA ****************\n"
     ]
    },
    {
     "name": "stderr",
     "output_type": "stream",
     "text": [
      "INFO:fbprophet:Disabling yearly seasonality. Run prophet with yearly_seasonality=True to override this.\n",
      "INFO:fbprophet:Disabling weekly seasonality. Run prophet with weekly_seasonality=True to override this.\n",
      "INFO:fbprophet:n_changepoints greater than number of observations.Using 5.\n"
     ]
    },
    {
     "name": "stdout",
     "output_type": "stream",
     "text": [
      "                   ds       yhat  yhat_lower  yhat_upper\n",
      "0 2020-02-01 19:00:00 -63.445029  -63.601815  -63.275057\n",
      "******* Guangdong DATA ****************\n"
     ]
    },
    {
     "name": "stderr",
     "output_type": "stream",
     "text": [
      "INFO:fbprophet:Disabling yearly seasonality. Run prophet with yearly_seasonality=True to override this.\n",
      "INFO:fbprophet:Disabling weekly seasonality. Run prophet with weekly_seasonality=True to override this.\n",
      "INFO:fbprophet:n_changepoints greater than number of observations.Using 5.\n"
     ]
    },
    {
     "name": "stdout",
     "output_type": "stream",
     "text": [
      "                   ds        yhat  yhat_lower  yhat_upper\n",
      "0 2020-02-01 19:00:00  145.922885  133.297807  157.481912\n",
      "******* Shandong DATA ****************\n"
     ]
    },
    {
     "name": "stderr",
     "output_type": "stream",
     "text": [
      "INFO:fbprophet:Disabling yearly seasonality. Run prophet with yearly_seasonality=True to override this.\n",
      "INFO:fbprophet:Disabling weekly seasonality. Run prophet with weekly_seasonality=True to override this.\n",
      "INFO:fbprophet:n_changepoints greater than number of observations.Using 5.\n"
     ]
    },
    {
     "name": "stdout",
     "output_type": "stream",
     "text": [
      "                   ds        yhat  yhat_lower  yhat_upper\n",
      "0 2020-02-01 19:00:00  278.513243  271.102526  285.856038\n",
      "******* Anhui DATA ****************\n"
     ]
    },
    {
     "name": "stderr",
     "output_type": "stream",
     "text": [
      "INFO:fbprophet:Disabling yearly seasonality. Run prophet with yearly_seasonality=True to override this.\n",
      "INFO:fbprophet:Disabling weekly seasonality. Run prophet with weekly_seasonality=True to override this.\n",
      "INFO:fbprophet:n_changepoints greater than number of observations.Using 5.\n"
     ]
    },
    {
     "name": "stdout",
     "output_type": "stream",
     "text": [
      "                   ds        yhat  yhat_lower  yhat_upper\n",
      "0 2020-02-01 19:00:00  109.557183   99.457566  118.807619\n",
      "******* Tianjin DATA ****************\n"
     ]
    },
    {
     "name": "stderr",
     "output_type": "stream",
     "text": [
      "INFO:fbprophet:Disabling yearly seasonality. Run prophet with yearly_seasonality=True to override this.\n",
      "INFO:fbprophet:Disabling weekly seasonality. Run prophet with weekly_seasonality=True to override this.\n",
      "INFO:fbprophet:n_changepoints greater than number of observations.Using 5.\n"
     ]
    },
    {
     "name": "stdout",
     "output_type": "stream",
     "text": [
      "                   ds       yhat  yhat_lower  yhat_upper\n",
      "0 2020-02-01 19:00:00  117.37419  115.852021  118.872125\n",
      "******* Sichuan DATA ****************\n"
     ]
    },
    {
     "name": "stderr",
     "output_type": "stream",
     "text": [
      "INFO:fbprophet:Disabling yearly seasonality. Run prophet with yearly_seasonality=True to override this.\n",
      "INFO:fbprophet:Disabling weekly seasonality. Run prophet with weekly_seasonality=True to override this.\n",
      "INFO:fbprophet:n_changepoints greater than number of observations.Using 5.\n"
     ]
    },
    {
     "name": "stdout",
     "output_type": "stream",
     "text": [
      "                   ds       yhat  yhat_lower  yhat_upper\n",
      "0 2020-02-01 19:00:00  292.94731  288.171984  297.655957\n",
      "******* Jilin DATA ****************\n"
     ]
    },
    {
     "name": "stderr",
     "output_type": "stream",
     "text": [
      "INFO:fbprophet:Disabling yearly seasonality. Run prophet with yearly_seasonality=True to override this.\n",
      "INFO:fbprophet:Disabling weekly seasonality. Run prophet with weekly_seasonality=True to override this.\n",
      "INFO:fbprophet:n_changepoints greater than number of observations.Using 5.\n"
     ]
    },
    {
     "name": "stdout",
     "output_type": "stream",
     "text": [
      "                   ds       yhat  yhat_lower  yhat_upper\n",
      "0 2020-02-01 19:00:00 -56.180156  -56.200691  -56.156373\n",
      "******* Beijing DATA ****************\n"
     ]
    },
    {
     "name": "stderr",
     "output_type": "stream",
     "text": [
      "INFO:fbprophet:Disabling yearly seasonality. Run prophet with yearly_seasonality=True to override this.\n",
      "INFO:fbprophet:Disabling weekly seasonality. Run prophet with weekly_seasonality=True to override this.\n",
      "INFO:fbprophet:n_changepoints greater than number of observations.Using 5.\n"
     ]
    },
    {
     "name": "stdout",
     "output_type": "stream",
     "text": [
      "                   ds     yhat  yhat_lower  yhat_upper\n",
      "0 2020-02-01 19:00:00  7.14527    6.858735    7.385398\n",
      "******* Shanghai DATA ****************\n"
     ]
    },
    {
     "name": "stderr",
     "output_type": "stream",
     "text": [
      "INFO:fbprophet:Disabling yearly seasonality. Run prophet with yearly_seasonality=True to override this.\n",
      "INFO:fbprophet:Disabling weekly seasonality. Run prophet with weekly_seasonality=True to override this.\n",
      "INFO:fbprophet:n_changepoints greater than number of observations.Using 5.\n"
     ]
    },
    {
     "name": "stdout",
     "output_type": "stream",
     "text": [
      "                   ds        yhat  yhat_lower  yhat_upper\n",
      "0 2020-02-01 19:00:00  285.220536  283.371198  287.100753\n",
      "******* Hunan DATA ****************\n"
     ]
    },
    {
     "name": "stderr",
     "output_type": "stream",
     "text": [
      "INFO:fbprophet:Disabling yearly seasonality. Run prophet with yearly_seasonality=True to override this.\n",
      "INFO:fbprophet:Disabling weekly seasonality. Run prophet with weekly_seasonality=True to override this.\n",
      "INFO:fbprophet:n_changepoints greater than number of observations.Using 5.\n"
     ]
    },
    {
     "name": "stdout",
     "output_type": "stream",
     "text": [
      "                   ds        yhat  yhat_lower  yhat_upper\n",
      "0 2020-02-01 19:00:00 -414.071821 -430.137991 -396.767001\n",
      "******* Guizhou DATA ****************\n"
     ]
    },
    {
     "name": "stderr",
     "output_type": "stream",
     "text": [
      "INFO:fbprophet:Disabling yearly seasonality. Run prophet with yearly_seasonality=True to override this.\n",
      "INFO:fbprophet:Disabling weekly seasonality. Run prophet with weekly_seasonality=True to override this.\n",
      "INFO:fbprophet:n_changepoints greater than number of observations.Using 5.\n"
     ]
    },
    {
     "name": "stdout",
     "output_type": "stream",
     "text": [
      "                   ds       yhat  yhat_lower  yhat_upper\n",
      "0 2020-02-01 19:00:00  41.587438    41.30213   41.889704\n",
      "******* Hainan DATA ****************\n"
     ]
    },
    {
     "name": "stderr",
     "output_type": "stream",
     "text": [
      "INFO:fbprophet:Disabling yearly seasonality. Run prophet with yearly_seasonality=True to override this.\n",
      "INFO:fbprophet:Disabling weekly seasonality. Run prophet with weekly_seasonality=True to override this.\n",
      "INFO:fbprophet:n_changepoints greater than number of observations.Using 5.\n"
     ]
    },
    {
     "name": "stdout",
     "output_type": "stream",
     "text": [
      "                   ds        yhat  yhat_lower  yhat_upper\n",
      "0 2020-02-01 19:00:00  138.443059   135.64874  141.088773\n",
      "******* Chongqing DATA ****************\n"
     ]
    },
    {
     "name": "stderr",
     "output_type": "stream",
     "text": [
      "INFO:fbprophet:Disabling yearly seasonality. Run prophet with yearly_seasonality=True to override this.\n",
      "INFO:fbprophet:Disabling weekly seasonality. Run prophet with weekly_seasonality=True to override this.\n",
      "INFO:fbprophet:n_changepoints greater than number of observations.Using 5.\n"
     ]
    },
    {
     "name": "stdout",
     "output_type": "stream",
     "text": [
      "                   ds       yhat  yhat_lower  yhat_upper\n",
      "0 2020-02-01 19:00:00  616.52737  612.103843  620.733559\n",
      "******* Heilongjiang DATA ****************\n"
     ]
    },
    {
     "name": "stderr",
     "output_type": "stream",
     "text": [
      "INFO:fbprophet:Disabling yearly seasonality. Run prophet with yearly_seasonality=True to override this.\n",
      "INFO:fbprophet:Disabling weekly seasonality. Run prophet with weekly_seasonality=True to override this.\n",
      "INFO:fbprophet:n_changepoints greater than number of observations.Using 5.\n"
     ]
    },
    {
     "name": "stdout",
     "output_type": "stream",
     "text": [
      "                   ds        yhat  yhat_lower  yhat_upper\n",
      "0 2020-02-01 19:00:00  242.207458  240.460517  243.899161\n",
      "******* Liaoning DATA ****************\n"
     ]
    },
    {
     "name": "stderr",
     "output_type": "stream",
     "text": [
      "INFO:fbprophet:Disabling yearly seasonality. Run prophet with yearly_seasonality=True to override this.\n",
      "INFO:fbprophet:Disabling weekly seasonality. Run prophet with weekly_seasonality=True to override this.\n",
      "INFO:fbprophet:n_changepoints greater than number of observations.Using 4.\n"
     ]
    },
    {
     "name": "stdout",
     "output_type": "stream",
     "text": [
      "                   ds       yhat  yhat_lower  yhat_upper\n",
      "0 2020-02-01 19:00:00  49.269228   47.667052   50.725037\n",
      "******* Jiangsu DATA ****************\n"
     ]
    },
    {
     "name": "stderr",
     "output_type": "stream",
     "text": [
      "INFO:fbprophet:Disabling yearly seasonality. Run prophet with yearly_seasonality=True to override this.\n",
      "INFO:fbprophet:Disabling weekly seasonality. Run prophet with weekly_seasonality=True to override this.\n",
      "INFO:fbprophet:n_changepoints greater than number of observations.Using 4.\n"
     ]
    },
    {
     "name": "stdout",
     "output_type": "stream",
     "text": [
      "                   ds        yhat  yhat_lower  yhat_upper\n",
      "0 2020-02-01 19:00:00  199.534952  192.951819  206.354993\n",
      "******* Gansu DATA ****************\n"
     ]
    },
    {
     "name": "stderr",
     "output_type": "stream",
     "text": [
      "INFO:fbprophet:Disabling yearly seasonality. Run prophet with yearly_seasonality=True to override this.\n",
      "INFO:fbprophet:Disabling weekly seasonality. Run prophet with weekly_seasonality=True to override this.\n",
      "INFO:fbprophet:n_changepoints greater than number of observations.Using 4.\n"
     ]
    },
    {
     "name": "stdout",
     "output_type": "stream",
     "text": [
      "                   ds      yhat  yhat_lower  yhat_upper\n",
      "0 2020-02-01 19:00:00  38.89753   38.003657   39.820531\n",
      "******* Fujian DATA ****************\n"
     ]
    },
    {
     "name": "stderr",
     "output_type": "stream",
     "text": [
      "INFO:fbprophet:Disabling yearly seasonality. Run prophet with yearly_seasonality=True to override this.\n",
      "INFO:fbprophet:Disabling weekly seasonality. Run prophet with weekly_seasonality=True to override this.\n",
      "INFO:fbprophet:n_changepoints greater than number of observations.Using 4.\n"
     ]
    },
    {
     "name": "stdout",
     "output_type": "stream",
     "text": [
      "                   ds       yhat  yhat_lower  yhat_upper\n",
      "0 2020-02-01 19:00:00 -76.005363  -82.214127  -69.805065\n",
      "******* Hebei DATA ****************\n"
     ]
    },
    {
     "name": "stderr",
     "output_type": "stream",
     "text": [
      "INFO:fbprophet:Disabling yearly seasonality. Run prophet with yearly_seasonality=True to override this.\n",
      "INFO:fbprophet:Disabling weekly seasonality. Run prophet with weekly_seasonality=True to override this.\n",
      "INFO:fbprophet:Disabling daily seasonality. Run prophet with daily_seasonality=True to override this.\n",
      "INFO:fbprophet:n_changepoints greater than number of observations.Using 2.\n"
     ]
    },
    {
     "name": "stdout",
     "output_type": "stream",
     "text": [
      "                   ds       yhat  yhat_lower  yhat_upper\n",
      "0 2020-02-01 19:00:00  66.558582   62.016098   71.027963\n",
      "******* Tibet DATA ****************\n"
     ]
    },
    {
     "name": "stderr",
     "output_type": "stream",
     "text": [
      "INFO:fbprophet:Disabling yearly seasonality. Run prophet with yearly_seasonality=True to override this.\n",
      "INFO:fbprophet:Disabling weekly seasonality. Run prophet with weekly_seasonality=True to override this.\n",
      "INFO:fbprophet:n_changepoints greater than number of observations.Using 4.\n"
     ]
    },
    {
     "name": "stdout",
     "output_type": "stream",
     "text": [
      "                   ds      yhat  yhat_lower  yhat_upper\n",
      "0 2020-02-01 19:00:00  1.177567    1.093656     1.25982\n",
      "******* Xinjiang DATA ****************\n"
     ]
    },
    {
     "name": "stderr",
     "output_type": "stream",
     "text": [
      "INFO:fbprophet:Disabling yearly seasonality. Run prophet with yearly_seasonality=True to override this.\n",
      "INFO:fbprophet:Disabling weekly seasonality. Run prophet with weekly_seasonality=True to override this.\n",
      "INFO:fbprophet:n_changepoints greater than number of observations.Using 4.\n"
     ]
    },
    {
     "name": "stdout",
     "output_type": "stream",
     "text": [
      "                   ds      yhat  yhat_lower  yhat_upper\n",
      "0 2020-02-01 19:00:00 -3.844762   -4.397248   -3.245592\n",
      "******* Shanxi DATA ****************\n"
     ]
    },
    {
     "name": "stderr",
     "output_type": "stream",
     "text": [
      "INFO:fbprophet:Disabling yearly seasonality. Run prophet with yearly_seasonality=True to override this.\n",
      "INFO:fbprophet:Disabling weekly seasonality. Run prophet with weekly_seasonality=True to override this.\n",
      "INFO:fbprophet:n_changepoints greater than number of observations.Using 4.\n"
     ]
    },
    {
     "name": "stdout",
     "output_type": "stream",
     "text": [
      "                   ds      yhat  yhat_lower  yhat_upper\n",
      "0 2020-02-01 19:00:00 -5.511617    -7.71452   -3.371694\n",
      "******* Shaanxi DATA ****************\n"
     ]
    },
    {
     "name": "stderr",
     "output_type": "stream",
     "text": [
      "INFO:fbprophet:Disabling yearly seasonality. Run prophet with yearly_seasonality=True to override this.\n",
      "INFO:fbprophet:Disabling weekly seasonality. Run prophet with weekly_seasonality=True to override this.\n",
      "INFO:fbprophet:n_changepoints greater than number of observations.Using 4.\n"
     ]
    },
    {
     "name": "stdout",
     "output_type": "stream",
     "text": [
      "                   ds        yhat  yhat_lower  yhat_upper\n",
      "0 2020-02-01 19:00:00  330.373222  326.192197  334.332721\n",
      "******* Qinghai DATA ****************\n",
      "                   ds       yhat  yhat_lower  yhat_upper\n",
      "0 2020-02-01 19:00:00  36.141655   35.836997   36.456642\n",
      "For Date 1st Feb:   5075.96109952935\n"
     ]
    }
   ],
   "source": [
    "cal_1feb(df_other_cities)"
   ]
  },
  {
   "cell_type": "markdown",
   "metadata": {},
   "source": [
    "For 1st Feb -- 5076 Confirmed Cases "
   ]
  },
  {
   "cell_type": "markdown",
   "metadata": {},
   "source": [
    "Till this We had made the prediction for 30th ,31st Jan and 1st Feb into two seperate parts - one for Hubei Province and second for rest of the cities of the China. \n",
    "\n",
    "Now We need to combined both of these results:\n",
    "\n",
    "1. For 31th Jan -- 5436 + 3609 = 9,045 Confirmed Cases\n",
    "2. For 1st Feb --- 7295 + 5076 = 12,371 Confirmed Cases\n",
    "\n",
    "\n",
    "These are the finally Results For CHINA  "
   ]
  },
  {
   "cell_type": "code",
   "execution_count": null,
   "metadata": {},
   "outputs": [],
   "source": []
  }
 ],
 "metadata": {
  "kernelspec": {
   "display_name": "Python 3",
   "language": "python",
   "name": "python3"
  },
  "language_info": {
   "codemirror_mode": {
    "name": "ipython",
    "version": 3
   },
   "file_extension": ".py",
   "mimetype": "text/x-python",
   "name": "python",
   "nbconvert_exporter": "python",
   "pygments_lexer": "ipython3",
   "version": "3.7.4"
  }
 },
 "nbformat": 4,
 "nbformat_minor": 2
}
